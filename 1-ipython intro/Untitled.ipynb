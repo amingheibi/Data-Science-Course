{
 "cells": [
  {
   "cell_type": "code",
   "execution_count": 2,
   "metadata": {},
   "outputs": [
    {
     "name": "stdout",
     "output_type": "stream",
     "text": [
      "history?\n",
      "history\n"
     ]
    }
   ],
   "source": [
    "history"
   ]
  },
  {
   "cell_type": "code",
   "execution_count": 3,
   "metadata": {},
   "outputs": [
    {
     "name": "stdout",
     "output_type": "stream",
     "text": [
      " Volume in drive C has no label.\n",
      " Volume Serial Number is 1E50-174F\n",
      "\n",
      " Directory of c:\\Amin's Personal Data\\University\\Teaching\\Winter 2020\\Special Topics in Data Science, Winter 2020\\Jupyter Notebooks\\1-ipython intro\n",
      "\n",
      "02/10/2020  06:29 AM    <DIR>          .\n",
      "02/10/2020  06:29 AM    <DIR>          ..\n",
      "02/10/2020  06:29 AM    <DIR>          .ipynb_checkpoints\n",
      "02/08/2020  01:02 AM         4,366,644 coal_prod_cleaned.csv\n",
      "02/08/2020  02:38 AM         1,455,001 Simple Demo.ipynb\n",
      "02/10/2020  06:29 AM                72 Untitled.ipynb\n",
      "               3 File(s)      5,821,717 bytes\n",
      "               3 Dir(s)  339,952,250,880 bytes free\n"
     ]
    }
   ],
   "source": [
    "ls\n"
   ]
  },
  {
   "cell_type": "code",
   "execution_count": null,
   "metadata": {},
   "outputs": [],
   "source": [
    "!date\n"
   ]
  },
  {
   "cell_type": "code",
   "execution_count": null,
   "metadata": {},
   "outputs": [],
   "source": []
  }
 ],
 "metadata": {
  "kernelspec": {
   "display_name": "Python 3",
   "language": "python",
   "name": "python3"
  },
  "language_info": {
   "codemirror_mode": {
    "name": "ipython",
    "version": 3
   },
   "file_extension": ".py",
   "mimetype": "text/x-python",
   "name": "python",
   "nbconvert_exporter": "python",
   "pygments_lexer": "ipython3",
   "version": "3.7.4"
  }
 },
 "nbformat": 4,
 "nbformat_minor": 2
}
